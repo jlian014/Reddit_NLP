{
 "cells": [
  {
   "cell_type": "markdown",
   "metadata": {},
   "source": [
    "# 1. Problem Statement"
   ]
  },
  {
   "cell_type": "markdown",
   "metadata": {},
   "source": [
    "Korean Popular Music, the K-pop: has become increasingly visible to global audiences in the last decade thanks to evolution of YouTube, Facebook, Twitter and all other social medias. In the year 2017 and 2018, Kpop music industry finally break into the American market to make a significant wave in the US. On May 15th, 2017, Grammy.com posted an article titled \"Why is K-pop’s popularity exploding in the United States?\". In May, 2018, the boy band BTS made history as being first K-pop group to win No. 1 on the US Billboard Chart. On May 31st, 2018, the Guardian.com stated that \"English is no longer the default language of American pop\". A new-released K-pop music video can reach a million views on Youtube within a couple days, and the fans help promoting K-pop products by sharing them on their Facebook and Twitter. K-pop fans also believe that participating in discussion boards on Reddit is another important activity. \n",
    "\n",
    "Reddit's [K-pop subreddit](http://www.reddit.com/r/kpop) has over 325 thousand subscribers which is the one of the largest K-pop community for sharing K-pop news, videos, and other content. There are many types of post in K-pop subreddit which can post in their own channel categories(e.g., Discussion, News, Mv, Teaser etc.) depend on the content of the post. For instance, the majority of posts in \"Discussion\" channel are self-posts, with a title and a body of text written by the Reddit user whereas the posts in the \"News\" channel usually include a lot of url links to the original news publisher's websites. So, what K-pop fans are talking about and what can be a potential factors to drive the global success of K-pop in recent years.  \n",
    "\n",
    "In this data science project, we collected the post on the K-pop subreddit which are submitted from 01/01/2013 to 12/15/2018. We wanted to build a classification model to classify which posts are belonged in recent two years. The purpose of this classification model is rather to find the most important text features with fairy acceptable accuracy than to produce the high accuracy classification model. Hence, the easily interpretable classification models such as Logistic Regression or Random Forest Classifiers are more suitable for achieving this purpose. This can be very useful to provide insights and suggestions for Korean Culture Center that they can identify the good strategies to keep the Korean Wave of pop culture going in US. "
   ]
  },
  {
   "cell_type": "markdown",
   "metadata": {},
   "source": [
    "# 2. Import libraries"
   ]
  },
  {
   "cell_type": "code",
   "execution_count": 1,
   "metadata": {},
   "outputs": [],
   "source": [
    "import json\n",
    "from datetime import datetime\n",
    "import time\n",
    "import requests\n",
    "import pandas as pd\n",
    "import re \n",
    "import seaborn as sns\n",
    "import matplotlib.pyplot as plt\n",
    "import matplotlib.patches as mpatches\n",
    "\n",
    "%matplotlib inline"
   ]
  },
  {
   "cell_type": "markdown",
   "metadata": {},
   "source": [
    "# 3. Gathering text data on Reddit\n"
   ]
  },
  {
   "cell_type": "markdown",
   "metadata": {},
   "source": [
    "Pushshift API allows us to access the Reddit through building an URL with the relevant parameters without even needing Reddit credentials. With parameters, we will easily access the historical submissions written in unix timestamp. For example, with the url below:<br> \n",
    "\n",
    "https://api.pushshift.io/reddit/submission/search/?subreddit=kpop&limit=1000&after=1514764800&before=1517443200, <br>\n",
    "\n",
    "we can collect 1000 posts submitted on the Reddit for a specific time period. If there's more than 1000 posts in this time period, we need to pull the last created timestamp and send another request to Pushshift API with updated the 'after' parameter. Therefore, the function is defined first for building the URLs, the function is called iteratively until we collect all the posts between 01/01/2013 to 12/15/2018."
   ]
  },
  {
   "cell_type": "code",
   "execution_count": 2,
   "metadata": {},
   "outputs": [],
   "source": [
    "def get_posts_for_time_period(sub, beginning, end=int(datetime.now().timestamp())):\n",
    "    url = \"https://apiv2.pushshift.io/reddit/submission/search/\" \\\n",
    "               \"?subreddit={0}\" \\\n",
    "               \"&limit=1000\" \\\n",
    "               \"&after={1}\" \\\n",
    "               \"&before={2}\".format(sub, beginning, end)\n",
    "         \n",
    "    response = requests.get(url)\n",
    "    if response.status_code == 200:\n",
    "        resp_json = response.json()\n",
    "    else:\n",
    "        print(response.status_code)\n",
    "    time.sleep(1)\n",
    "    return resp_json['data']"
   ]
  },
  {
   "cell_type": "markdown",
   "metadata": {},
   "source": [
    "Set up the beginning and ending timestamp, and while loop for requesting more data:"
   ]
  },
  {
   "cell_type": "code",
   "execution_count": 3,
   "metadata": {
    "scrolled": true
   },
   "outputs": [],
   "source": [
    "beginning_timestamp = int(datetime(year=2013, month=1, day=1).timestamp())\n",
    "ending_timestamp = int(datetime(year=2018, month=12, day=15).timestamp())\n",
    "data = get_posts_for_time_period(\"kpop\", beginning_timestamp, ending_timestamp)\n",
    "all_data = data\n",
    "\n",
    "while len(data) >= 1000:\n",
    "    last_time = data[-1]['created_utc']\n",
    "    updated_time = last_time + 1 \n",
    "    data = get_posts_for_time_period(sub=\"kpop\", beginning=updated_time, end=ending_timestamp)\n",
    "    #print(\"Queried pushshift until\", datetime.utcfromtimestamp(data[-1]['created_utc']).strftime('%Y-%m-%d %H:%M:%S'))\n",
    "    all_data.extend(data)"
   ]
  },
  {
   "cell_type": "markdown",
   "metadata": {},
   "source": [
    "> Note: we can add a print statement such as `print(\"Queried pushshift until\", datetime.utcfromtimestamp(data[-1]['created_utc']).strftime('%Y-%m-%d %H:%M:%S'))` for checking the querying status, the statement is omitted in here to reduce the unnecessary output."
   ]
  },
  {
   "cell_type": "code",
   "execution_count": 4,
   "metadata": {
    "scrolled": true
   },
   "outputs": [
    {
     "data": {
      "text/plain": [
       "141887"
      ]
     },
     "execution_count": 4,
     "metadata": {},
     "output_type": "execute_result"
    }
   ],
   "source": [
    "len(all_data)"
   ]
  },
  {
   "cell_type": "markdown",
   "metadata": {},
   "source": [
    "---\n",
    "**Responses from Pushshift API**\n",
    " \n",
    "    [{'author': 'soshix21',\n",
    "      'author_flair_css_class': 'fan',\n",
    "      'author_flair_text': '1TYM',\n",
    "      'created_utc': 1357028046,\n",
    "      'domain': 'youtube.com',\n",
    "      'full_link': 'https://www.reddit.com/r/kpop/comments/15rkbi/playlist_snsds_4th_album_youtube/',\n",
    "      'id': '15rkbi',\n",
    "      'is_self': False,\n",
    "      'media': {'oembed': {'description': '\"SNSD 4th\", a playlist created by So Shi',\n",
    "        'height': 450,\n",
    "        'html': '&lt;iframe src=\"http://www.youtube.com/embed/videoseries?list=PLV2npvrON1KORMtq2-EA6Fq2LVISuV6Z2\" width=\"600\" height=\"450\" frameborder=\"0\"&gt;&lt;/iframe&gt;',\n",
    "        'provider_name': 'YouTube',\n",
    "        'provider_url': 'http://youtube.com',\n",
    "        'thumbnail_height': 360,\n",
    "        'thumbnail_url': 'http://i1.ytimg.com/vi/DIHZbwOX0Vs/hqdefault.jpg',\n",
    "        'thumbnail_width': 480,\n",
    "        .....]\n",
    "---"
   ]
  },
  {
   "cell_type": "markdown",
   "metadata": {},
   "source": [
    "Now, we have successfully collected data which is a list of JSON format, and the length of this list is 141887. Next, we want to retrieve the useful information only from the collected JSON data, such as title, body text, creation year, and the subchannel names. These informations can be searched by the keys `title`,`selftext`,`created_utc`, and `link_flair_css_class` respectively. After gained all information, the pandas DataFrame is generated to allow us analyze the collected text data. It should be noted that the title and the body text of post are combined together here."
   ]
  },
  {
   "cell_type": "code",
   "execution_count": 5,
   "metadata": {},
   "outputs": [],
   "source": [
    "text_title = [i['title'] for i in all_data]\n",
    "text_body = [i['selftext'] if 'selftext' in i.keys() else '' for i in all_data ]\n",
    "text_year = [datetime.utcfromtimestamp(i['created_utc']).year for i in all_data]\n",
    "text_subchannel = [i['link_flair_css_class'] if 'link_flair_css_class' in i.keys() else ' ' for i in all_data]\n",
    "text = pd.DataFrame({'Title':text_title,\n",
    "                     'Body':text_body,\n",
    "                     'Year':text_year,\n",
    "                     'link_class': text_subchannel})\n",
    "text['text'] = text['Title'] + ' ' + text['Body']\n",
    "text.drop(['Title','Body'], axis=1, inplace = True)"
   ]
  },
  {
   "cell_type": "markdown",
   "metadata": {},
   "source": [
    "# 4. Data cleaning"
   ]
  },
  {
   "cell_type": "markdown",
   "metadata": {},
   "source": [
    "## 4.1 Check for missing values"
   ]
  },
  {
   "cell_type": "code",
   "execution_count": 6,
   "metadata": {},
   "outputs": [
    {
     "data": {
      "text/plain": [
       "Year          0\n",
       "link_class    2\n",
       "text          0\n",
       "dtype: int64"
      ]
     },
     "execution_count": 6,
     "metadata": {},
     "output_type": "execute_result"
    }
   ],
   "source": [
    "text.isnull().sum()"
   ]
  },
  {
   "cell_type": "markdown",
   "metadata": {},
   "source": [
    "There are two missing `Subchannel` names, we can fill them with the text 'NoChannel'."
   ]
  },
  {
   "cell_type": "code",
   "execution_count": 7,
   "metadata": {},
   "outputs": [],
   "source": [
    "text['link_class'] = text['link_class'].fillna('NoChannel')"
   ]
  },
  {
   "cell_type": "code",
   "execution_count": 8,
   "metadata": {
    "scrolled": false
   },
   "outputs": [
    {
     "data": {
      "text/plain": [
       "Year          0\n",
       "link_class    0\n",
       "text          0\n",
       "dtype: int64"
      ]
     },
     "execution_count": 8,
     "metadata": {},
     "output_type": "execute_result"
    }
   ],
   "source": [
    "text.isnull().sum()"
   ]
  },
  {
   "cell_type": "markdown",
   "metadata": {},
   "source": [
    "## 4.2 Strip any HTML tags"
   ]
  },
  {
   "cell_type": "markdown",
   "metadata": {},
   "source": [
    "Some Reddit posts include links to Youtube videos, News websites, or another Reddit post, so cleaning via regex is required to remove links in the Reddit posts."
   ]
  },
  {
   "cell_type": "code",
   "execution_count": 9,
   "metadata": {},
   "outputs": [],
   "source": [
    "text['text'] = [re.sub(r'https?:\\/\\/.*[\\r\\n]*', '', row, flags=re.I) for row in text['text']]"
   ]
  },
  {
   "cell_type": "markdown",
   "metadata": {},
   "source": [
    "## 4.3 Separate subchannel names from the text"
   ]
  },
  {
   "cell_type": "markdown",
   "metadata": {},
   "source": [
    "In the earlier posts, there's no `link_flair_css_class`. The users input the subchannel names by themselves in front of the post title and marked them with the Square Bracket.\n",
    "\n",
    "> Recent posts:\n",
    " ![The recent post](../img/2018.png)\n",
    " \n",
    ">  Old posts:\n",
    " ![The old post](../img/2014.png)\n",
    "\n",
    "So, we have to extract the subchannel names inside the Square Bracket using regex and remove the subchannel names from the combined text. "
   ]
  },
  {
   "cell_type": "code",
   "execution_count": 10,
   "metadata": {},
   "outputs": [],
   "source": [
    "text['text_[]'] = [re.findall(r'^\\[([^\\]]+)\\]', row, flags=re.M|re.I) for row in text['text']]\n",
    "text['text'] = [re.sub(r'^\\[([^\\]]+)\\]', '', row, flags=re.M|re.I) for row in text['text']]"
   ]
  },
  {
   "cell_type": "markdown",
   "metadata": {},
   "source": [
    "At last, combine the subchannle names retrieved from JSON data and extracted from text title."
   ]
  },
  {
   "cell_type": "code",
   "execution_count": 11,
   "metadata": {},
   "outputs": [],
   "source": [
    "text['subchannel'] = text['text_[]'].map(str) + text[\"link_class\"]\n",
    "text.drop(['text_[]','link_class'], axis=1, inplace = True)"
   ]
  },
  {
   "cell_type": "markdown",
   "metadata": {},
   "source": [
    "# 5. Define classes"
   ]
  },
  {
   "cell_type": "code",
   "execution_count": 12,
   "metadata": {
    "scrolled": false
   },
   "outputs": [
    {
     "data": {
      "image/png": "[encoded data removed]",
      "text/plain": [
       "<Figure size 576x432 with 1 Axes>"
      ]
     },
     "metadata": {
      "needs_background": "light"
     },
     "output_type": "display_data"
    }
   ],
   "source": [
    "plt.figure(figsize=(8,6))\n",
    "sns.countplot(x='Year', data=text, palette = ['grey','grey','grey', 'grey','goldenrod','goldenrod']);\n",
    "plt.xlabel('Year', fontsize=15);\n",
    "plt.ylabel('Post count', fontsize=15);\n",
    "gold_patch = mpatches.Patch(color='goldenrod', label='Kpop Golden Era')\n",
    "grey_patch = mpatches.Patch(color='grey', label='Kpop Pre-mature Era')\n",
    "plt.legend(handles=[grey_patch,gold_patch])"
   ]
  },
  {
   "cell_type": "markdown",
   "metadata": {},
   "source": [
    "The number of posts on Kpop subreddit is continuously growing every year since 2013. As mentioned above, the classifier we aim to build in this project is to identify which Reddit post is belonged to the year 2017 and 2018. We name these two years as \"Kpop Golden Era\" since the Kpop artists finally broke into American market and gained a lot of popularity in the mainstream media after many attempts.Therefore, we define the posts created in 2017 or 2018 as \"class 1\", and rest of posts as \"class 0\"."
   ]
  },
  {
   "cell_type": "code",
   "execution_count": 13,
   "metadata": {},
   "outputs": [],
   "source": [
    "text['class'] = [1 if i in [2017,2018] else 0 for i in text_year]"
   ]
  },
  {
   "cell_type": "code",
   "execution_count": 14,
   "metadata": {
    "scrolled": false
   },
   "outputs": [
    {
     "data": {
      "text/html": [
       "<div>\n",
       "<style scoped>\n",
       "    .dataframe tbody tr th:only-of-type {\n",
       "        vertical-align: middle;\n",
       "    }\n",
       "\n",
       "    .dataframe tbody tr th {\n",
       "        vertical-align: top;\n",
       "    }\n",
       "\n",
       "    .dataframe thead th {\n",
       "        text-align: right;\n",
       "    }\n",
       "</style>\n",
       "<table border=\"1\" class=\"dataframe\">\n",
       "  <thead>\n",
       "    <tr style=\"text-align: right;\">\n",
       "      <th></th>\n",
       "      <th>Year</th>\n",
       "      <th>text</th>\n",
       "      <th>subchannel</th>\n",
       "      <th>class</th>\n",
       "    </tr>\n",
       "  </thead>\n",
       "  <tbody>\n",
       "    <tr>\n",
       "      <th>0</th>\n",
       "      <td>2013</td>\n",
       "      <td>SNSD's 4th album (Youtube)</td>\n",
       "      <td>['Playlist']</td>\n",
       "      <td>0</td>\n",
       "    </tr>\n",
       "    <tr>\n",
       "      <th>1</th>\n",
       "      <td>2013</td>\n",
       "      <td>Which was the Best 2013 Song Festival? Hi Guy...</td>\n",
       "      <td>['question/opinion']</td>\n",
       "      <td>0</td>\n",
       "    </tr>\n",
       "    <tr>\n",
       "      <th>2</th>\n",
       "      <td>2013</td>\n",
       "      <td>Sistar - New Year's Greetings (love the Eng su...</td>\n",
       "      <td>[]</td>\n",
       "      <td>0</td>\n",
       "    </tr>\n",
       "    <tr>\n",
       "      <th>3</th>\n",
       "      <td>2013</td>\n",
       "      <td>Can anyone identify the song used on this cli...</td>\n",
       "      <td>['Song ID']</td>\n",
       "      <td>0</td>\n",
       "    </tr>\n",
       "    <tr>\n",
       "      <th>4</th>\n",
       "      <td>2013</td>\n",
       "      <td>After School - Flashback [Epitone Remix] [MV]</td>\n",
       "      <td>['HD']</td>\n",
       "      <td>0</td>\n",
       "    </tr>\n",
       "  </tbody>\n",
       "</table>\n",
       "</div>"
      ],
      "text/plain": [
       "   Year                                               text  \\\n",
       "0  2013                        SNSD's 4th album (Youtube)    \n",
       "1  2013   Which was the Best 2013 Song Festival? Hi Guy...   \n",
       "2  2013  Sistar - New Year's Greetings (love the Eng su...   \n",
       "3  2013   Can anyone identify the song used on this cli...   \n",
       "4  2013     After School - Flashback [Epitone Remix] [MV]    \n",
       "\n",
       "              subchannel  class  \n",
       "0          ['Playlist']       0  \n",
       "1  ['question/opinion']       0  \n",
       "2                    []       0  \n",
       "3           ['Song ID']       0  \n",
       "4                ['HD']       0  "
      ]
     },
     "execution_count": 14,
     "metadata": {},
     "output_type": "execute_result"
    }
   ],
   "source": [
    "text.head()"
   ]
  },
  {
   "cell_type": "code",
   "execution_count": 15,
   "metadata": {},
   "outputs": [
    {
     "data": {
      "text/html": [
       "<div>\n",
       "<style scoped>\n",
       "    .dataframe tbody tr th:only-of-type {\n",
       "        vertical-align: middle;\n",
       "    }\n",
       "\n",
       "    .dataframe tbody tr th {\n",
       "        vertical-align: top;\n",
       "    }\n",
       "\n",
       "    .dataframe thead th {\n",
       "        text-align: right;\n",
       "    }\n",
       "</style>\n",
       "<table border=\"1\" class=\"dataframe\">\n",
       "  <thead>\n",
       "    <tr style=\"text-align: right;\">\n",
       "      <th></th>\n",
       "      <th>Year</th>\n",
       "      <th>text</th>\n",
       "      <th>subchannel</th>\n",
       "      <th>class</th>\n",
       "    </tr>\n",
       "  </thead>\n",
       "  <tbody>\n",
       "    <tr>\n",
       "      <th>141882</th>\n",
       "      <td>2018</td>\n",
       "      <td>This Week In KPOP - December 15, 2018 Welcome ...</td>\n",
       "      <td>[]</td>\n",
       "      <td>1</td>\n",
       "    </tr>\n",
       "    <tr>\n",
       "      <th>141883</th>\n",
       "      <td>2018</td>\n",
       "      <td>OH MY GIRL to appear on live tvN Variety Show ...</td>\n",
       "      <td>[]</td>\n",
       "      <td>1</td>\n",
       "    </tr>\n",
       "    <tr>\n",
       "      <th>141884</th>\n",
       "      <td>2018</td>\n",
       "      <td>What k-pop song has this dance? It’s like maki...</td>\n",
       "      <td>[]discussion</td>\n",
       "      <td>1</td>\n",
       "    </tr>\n",
       "    <tr>\n",
       "      <th>141885</th>\n",
       "      <td>2018</td>\n",
       "      <td>MONSTA X Shownu's shoulder pops out during gre...</td>\n",
       "      <td>[]news</td>\n",
       "      <td>1</td>\n",
       "    </tr>\n",
       "    <tr>\n",
       "      <th>141886</th>\n",
       "      <td>2018</td>\n",
       "      <td>Special Stage: Under19 PerfomanceTeam - We Are...</td>\n",
       "      <td>[]</td>\n",
       "      <td>1</td>\n",
       "    </tr>\n",
       "  </tbody>\n",
       "</table>\n",
       "</div>"
      ],
      "text/plain": [
       "        Year                                               text    subchannel  \\\n",
       "141882  2018  This Week In KPOP - December 15, 2018 Welcome ...           []    \n",
       "141883  2018  OH MY GIRL to appear on live tvN Variety Show ...           []    \n",
       "141884  2018  What k-pop song has this dance? It’s like maki...  []discussion   \n",
       "141885  2018  MONSTA X Shownu's shoulder pops out during gre...        []news   \n",
       "141886  2018  Special Stage: Under19 PerfomanceTeam - We Are...           []    \n",
       "\n",
       "        class  \n",
       "141882      1  \n",
       "141883      1  \n",
       "141884      1  \n",
       "141885      1  \n",
       "141886      1  "
      ]
     },
     "execution_count": 15,
     "metadata": {},
     "output_type": "execute_result"
    }
   ],
   "source": [
    "text.tail()"
   ]
  },
  {
   "cell_type": "markdown",
   "metadata": {},
   "source": [
    "The final resulted DataFrame includes:\n",
    "> - `Year`: post creation year <br>\n",
    "> - `text`: combined post title and body text <br>\n",
    "> - `subchannel`: subchannel names.\n",
    "> - `class`: 1-posts created in 2017 or 2018; 0-posts created before 2017"
   ]
  },
  {
   "cell_type": "markdown",
   "metadata": {},
   "source": [
    "# 6. Save the DataFrame for further use"
   ]
  },
  {
   "cell_type": "code",
   "execution_count": 16,
   "metadata": {},
   "outputs": [],
   "source": [
    "text.to_csv('../dataset/text.csv',index=None)"
   ]
  },
  {
   "cell_type": "code",
   "execution_count": 17,
   "metadata": {},
   "outputs": [
    {
     "name": "stdout",
     "output_type": "stream",
     "text": [
      "Year,text,subchannel,class\r\n",
      "2013, SNSD's 4th album (Youtube) ,['Playlist'] ,0\r\n",
      "2013,\" Which was the Best 2013 Song Festival? Hi Guys, I usually watch/stream the music festivals, but I was a bit too busy this year. In your opinion, which one was the best?\r\n",
      "\r\n",
      "The point is the best one is the one where I would watchy/download the 1080 version (and eat up my bandwidth) while the others would just be relegated to youtube streams :D\r\n",
      "\r\n",
      "\",['question/opinion'] ,0\r\n",
      "2013,Sistar - New Year's Greetings (love the Eng subs!) ,[] ,0\r\n",
      "2013, Can anyone identify the song used on this clip? Starts at 10minute ends at 12min. (From God's Quiz S1) ,['Song ID'] ,0\r\n",
      "2013, After School - Flashback [Epitone Remix] [MV] ,['HD'] ,0\r\n"
     ]
    }
   ],
   "source": [
    "!head ../dataset/text.csv"
   ]
  }
 ],
 "metadata": {
  "kernelspec": {
   "display_name": "Python 3",
   "language": "python",
   "name": "python3"
  },
  "language_info": {
   "codemirror_mode": {
    "name": "ipython",
    "version": 3
   },
   "file_extension": ".py",
   "mimetype": "text/x-python",
   "name": "python",
   "nbconvert_exporter": "python",
   "pygments_lexer": "ipython3",
   "version": "3.6.7"
  }
 },
 "nbformat": 4,
 "nbformat_minor": 2
}
