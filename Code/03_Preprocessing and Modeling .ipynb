{
 "cells": [
  {
   "cell_type": "markdown",
   "metadata": {},
   "source": [
    "# 1. Import libraries"
   ]
  },
  {
   "cell_type": "code",
   "execution_count": 1,
   "metadata": {},
   "outputs": [],
   "source": [
    "import pandas as pd\n",
    "import numpy as np\n",
    "from sklearn.feature_extraction.text import TfidfVectorizer\n",
    "from sklearn.ensemble import RandomForestClassifier\n",
    "from sklearn.linear_model import LogisticRegression\n",
    "from sklearn.neighbors import KNeighborsClassifier\n",
    "from sklearn import svm\n",
    "from sklearn.model_selection import train_test_split, GridSearchCV\n",
    "import matplotlib.pyplot as plt\n",
    "import time\n",
    "import matplotlib.patches as mpatches\n",
    "\n",
    "import warnings\n",
    "warnings.filterwarnings('ignore')\n",
    "\n",
    "\n",
    "%matplotlib inline"
   ]
  },
  {
   "cell_type": "markdown",
   "metadata": {},
   "source": [
    "# 2. Preprocessing"
   ]
  },
  {
   "cell_type": "markdown",
   "metadata": {},
   "source": [
    "## 2.1 Import the text data"
   ]
  },
  {
   "cell_type": "code",
   "execution_count": 2,
   "metadata": {},
   "outputs": [],
   "source": [
    "df = pd.read_csv('../dataset/kpop.csv')"
   ]
  },
  {
   "cell_type": "code",
   "execution_count": 3,
   "metadata": {},
   "outputs": [],
   "source": [
    "df.fillna('blank', inplace=True)"
   ]
  },
  {
   "cell_type": "markdown",
   "metadata": {},
   "source": [
    "## 2.2 Splitting training and test dataset"
   ]
  },
  {
   "cell_type": "code",
   "execution_count": 4,
   "metadata": {},
   "outputs": [],
   "source": [
    "X_train, X_test, y_train, y_test = train_test_split(df['text'],\n",
    "                                                    df['class'],\n",
    "                                                    test_size = 0.25,\n",
    "                                                    random_state = 42,\n",
    "                                                    stratify = df['class'])"
   ]
  },
  {
   "cell_type": "code",
   "execution_count": 5,
   "metadata": {},
   "outputs": [],
   "source": [
    "train_index = X_train.index"
   ]
  },
  {
   "cell_type": "code",
   "execution_count": 6,
   "metadata": {},
   "outputs": [],
   "source": [
    "test_index = X_test.index"
   ]
  },
  {
   "cell_type": "markdown",
   "metadata": {},
   "source": [
    "## 2.3 Initiate and fit Tfidf"
   ]
  },
  {
   "cell_type": "markdown",
   "metadata": {},
   "source": [
    "From here we took our cleaned text, vectorized and normalized the matrix using sklearn’s TFIDFTransformer, this will allow our data to be ready to input into a model. Consider the size of data is pretty large, we can tune the parameters `min_df` in TFIDFTransformer:\n",
    "\n",
    "`min_df`is used for removing terms that appear too infrequently. For example:<br>\n",
    "        \n",
    "        min_df = 0.01 means \"ignore terms that appear in less than 1% of the documents\".\n",
    "        The default min_df is 1, which means \"ignore terms that appear in less than 1 document\". \n",
    "In here, we set the min_df=50 to remove terms that appear in less than 50 documents."
   ]
  },
  {
   "cell_type": "code",
   "execution_count": 7,
   "metadata": {},
   "outputs": [],
   "source": [
    "tfidf = TfidfVectorizer(min_df=50, max_df=.95 , ngram_range=(1,2))"
   ]
  },
  {
   "cell_type": "code",
   "execution_count": 8,
   "metadata": {},
   "outputs": [],
   "source": [
    "X_train = tfidf.fit_transform(X_train)"
   ]
  },
  {
   "cell_type": "markdown",
   "metadata": {},
   "source": [
    "## 2.4 Vectors to SparseDataFrame"
   ]
  },
  {
   "cell_type": "code",
   "execution_count": 9,
   "metadata": {
    "scrolled": false
   },
   "outputs": [
    {
     "data": {
      "text/html": [
       "<div>\n",
       "<style scoped>\n",
       "    .dataframe tbody tr th:only-of-type {\n",
       "        vertical-align: middle;\n",
       "    }\n",
       "\n",
       "    .dataframe tbody tr th {\n",
       "        vertical-align: top;\n",
       "    }\n",
       "\n",
       "    .dataframe thead th {\n",
       "        text-align: right;\n",
       "    }\n",
       "</style>\n",
       "<table border=\"1\" class=\"dataframe\">\n",
       "  <thead>\n",
       "    <tr style=\"text-align: right;\">\n",
       "      <th></th>\n",
       "      <th>ability</th>\n",
       "      <th>able</th>\n",
       "      <th>absolute</th>\n",
       "      <th>absolutely</th>\n",
       "      <th>acapella</th>\n",
       "      <th>accepted</th>\n",
       "      <th>access</th>\n",
       "      <th>accident</th>\n",
       "      <th>accidentally</th>\n",
       "      <th>according</th>\n",
       "      <th>...</th>\n",
       "      <th>틴탑</th>\n",
       "      <th>펜타곤</th>\n",
       "      <th>포미닛</th>\n",
       "      <th>포텐</th>\n",
       "      <th>프로미스나인</th>\n",
       "      <th>피에스타</th>\n",
       "      <th>헤일로</th>\n",
       "      <th>현아</th>\n",
       "      <th>효린</th>\n",
       "      <th>히스토리</th>\n",
       "    </tr>\n",
       "  </thead>\n",
       "  <tbody>\n",
       "    <tr>\n",
       "      <th>69265</th>\n",
       "      <td>NaN</td>\n",
       "      <td>NaN</td>\n",
       "      <td>NaN</td>\n",
       "      <td>NaN</td>\n",
       "      <td>NaN</td>\n",
       "      <td>NaN</td>\n",
       "      <td>NaN</td>\n",
       "      <td>NaN</td>\n",
       "      <td>NaN</td>\n",
       "      <td>NaN</td>\n",
       "      <td>...</td>\n",
       "      <td>NaN</td>\n",
       "      <td>NaN</td>\n",
       "      <td>NaN</td>\n",
       "      <td>NaN</td>\n",
       "      <td>NaN</td>\n",
       "      <td>NaN</td>\n",
       "      <td>NaN</td>\n",
       "      <td>NaN</td>\n",
       "      <td>NaN</td>\n",
       "      <td>NaN</td>\n",
       "    </tr>\n",
       "    <tr>\n",
       "      <th>95925</th>\n",
       "      <td>NaN</td>\n",
       "      <td>NaN</td>\n",
       "      <td>NaN</td>\n",
       "      <td>NaN</td>\n",
       "      <td>NaN</td>\n",
       "      <td>NaN</td>\n",
       "      <td>NaN</td>\n",
       "      <td>NaN</td>\n",
       "      <td>NaN</td>\n",
       "      <td>NaN</td>\n",
       "      <td>...</td>\n",
       "      <td>NaN</td>\n",
       "      <td>NaN</td>\n",
       "      <td>NaN</td>\n",
       "      <td>NaN</td>\n",
       "      <td>NaN</td>\n",
       "      <td>NaN</td>\n",
       "      <td>NaN</td>\n",
       "      <td>NaN</td>\n",
       "      <td>NaN</td>\n",
       "      <td>NaN</td>\n",
       "    </tr>\n",
       "    <tr>\n",
       "      <th>29687</th>\n",
       "      <td>NaN</td>\n",
       "      <td>NaN</td>\n",
       "      <td>NaN</td>\n",
       "      <td>NaN</td>\n",
       "      <td>NaN</td>\n",
       "      <td>NaN</td>\n",
       "      <td>NaN</td>\n",
       "      <td>NaN</td>\n",
       "      <td>NaN</td>\n",
       "      <td>NaN</td>\n",
       "      <td>...</td>\n",
       "      <td>NaN</td>\n",
       "      <td>NaN</td>\n",
       "      <td>NaN</td>\n",
       "      <td>NaN</td>\n",
       "      <td>NaN</td>\n",
       "      <td>NaN</td>\n",
       "      <td>NaN</td>\n",
       "      <td>NaN</td>\n",
       "      <td>NaN</td>\n",
       "      <td>NaN</td>\n",
       "    </tr>\n",
       "    <tr>\n",
       "      <th>72547</th>\n",
       "      <td>NaN</td>\n",
       "      <td>NaN</td>\n",
       "      <td>NaN</td>\n",
       "      <td>NaN</td>\n",
       "      <td>NaN</td>\n",
       "      <td>NaN</td>\n",
       "      <td>NaN</td>\n",
       "      <td>NaN</td>\n",
       "      <td>NaN</td>\n",
       "      <td>NaN</td>\n",
       "      <td>...</td>\n",
       "      <td>NaN</td>\n",
       "      <td>NaN</td>\n",
       "      <td>NaN</td>\n",
       "      <td>NaN</td>\n",
       "      <td>NaN</td>\n",
       "      <td>NaN</td>\n",
       "      <td>NaN</td>\n",
       "      <td>NaN</td>\n",
       "      <td>NaN</td>\n",
       "      <td>NaN</td>\n",
       "    </tr>\n",
       "    <tr>\n",
       "      <th>123058</th>\n",
       "      <td>NaN</td>\n",
       "      <td>NaN</td>\n",
       "      <td>NaN</td>\n",
       "      <td>NaN</td>\n",
       "      <td>NaN</td>\n",
       "      <td>NaN</td>\n",
       "      <td>NaN</td>\n",
       "      <td>NaN</td>\n",
       "      <td>NaN</td>\n",
       "      <td>NaN</td>\n",
       "      <td>...</td>\n",
       "      <td>NaN</td>\n",
       "      <td>NaN</td>\n",
       "      <td>NaN</td>\n",
       "      <td>NaN</td>\n",
       "      <td>NaN</td>\n",
       "      <td>NaN</td>\n",
       "      <td>NaN</td>\n",
       "      <td>NaN</td>\n",
       "      <td>NaN</td>\n",
       "      <td>NaN</td>\n",
       "    </tr>\n",
       "  </tbody>\n",
       "</table>\n",
       "<p>5 rows × 4700 columns</p>\n",
       "</div>"
      ],
      "text/plain": [
       "        ability  able  absolute  absolutely  acapella  accepted  access  \\\n",
       "69265       NaN   NaN       NaN         NaN       NaN       NaN     NaN   \n",
       "95925       NaN   NaN       NaN         NaN       NaN       NaN     NaN   \n",
       "29687       NaN   NaN       NaN         NaN       NaN       NaN     NaN   \n",
       "72547       NaN   NaN       NaN         NaN       NaN       NaN     NaN   \n",
       "123058      NaN   NaN       NaN         NaN       NaN       NaN     NaN   \n",
       "\n",
       "        accident  accidentally  according  ...   틴탑  펜타곤  포미닛  포텐  프로미스나인  \\\n",
       "69265        NaN           NaN        NaN  ...  NaN  NaN  NaN NaN     NaN   \n",
       "95925        NaN           NaN        NaN  ...  NaN  NaN  NaN NaN     NaN   \n",
       "29687        NaN           NaN        NaN  ...  NaN  NaN  NaN NaN     NaN   \n",
       "72547        NaN           NaN        NaN  ...  NaN  NaN  NaN NaN     NaN   \n",
       "123058       NaN           NaN        NaN  ...  NaN  NaN  NaN NaN     NaN   \n",
       "\n",
       "        피에스타  헤일로  현아  효린  히스토리  \n",
       "69265    NaN  NaN NaN NaN   NaN  \n",
       "95925    NaN  NaN NaN NaN   NaN  \n",
       "29687    NaN  NaN NaN NaN   NaN  \n",
       "72547    NaN  NaN NaN NaN   NaN  \n",
       "123058   NaN  NaN NaN NaN   NaN  \n",
       "\n",
       "[5 rows x 4700 columns]"
      ]
     },
     "execution_count": 9,
     "metadata": {},
     "output_type": "execute_result"
    }
   ],
   "source": [
    "X_train = pd.SparseDataFrame(X_train, columns=tfidf.get_feature_names(), index = train_index)\n",
    "X_train.head()"
   ]
  },
  {
   "cell_type": "markdown",
   "metadata": {},
   "source": [
    "Vectorized the text creating a very sparse word count matrix that contained 4700 features. “Sparse” versions of DataFrame allow us to view these objects as being “compressed” where any data matching a specific value (zero in this case) is omitted. This sparse object takes up much less memory on disk and in the Python interpreter. Functionally, their behavior should be nearly identical to their dense counterparts."
   ]
  },
  {
   "cell_type": "code",
   "execution_count": 10,
   "metadata": {},
   "outputs": [],
   "source": [
    "X_train.fillna(0, inplace=True)"
   ]
  },
  {
   "cell_type": "markdown",
   "metadata": {},
   "source": [
    "We can fill NAN values with '0' in the SparseDataFrame."
   ]
  },
  {
   "cell_type": "code",
   "execution_count": 11,
   "metadata": {},
   "outputs": [],
   "source": [
    "X_test = pd.SparseDataFrame(tfidf.transform(X_test), columns=tfidf.get_feature_names(),index = test_index)\n",
    "X_test.fillna(0, inplace=True)"
   ]
  },
  {
   "cell_type": "markdown",
   "metadata": {},
   "source": [
    "Apply the same procedures to transform test dataset with the fitted \"TFIDFTransformer\"."
   ]
  },
  {
   "cell_type": "markdown",
   "metadata": {},
   "source": [
    "## 2. Modeling"
   ]
  },
  {
   "cell_type": "markdown",
   "metadata": {},
   "source": [
    "## 2.1 Baseline Accuracy"
   ]
  },
  {
   "cell_type": "code",
   "execution_count": 12,
   "metadata": {
    "scrolled": true
   },
   "outputs": [
    {
     "data": {
      "text/plain": [
       "0    0.512761\n",
       "1    0.487239\n",
       "Name: class, dtype: float64"
      ]
     },
     "execution_count": 12,
     "metadata": {},
     "output_type": "execute_result"
    }
   ],
   "source": [
    "y_train.value_counts(normalize=True)"
   ]
  },
  {
   "cell_type": "markdown",
   "metadata": {},
   "source": [
    "Our Baseline model accuracy is 51.2%, we should build the classifier to beat the baseline accuracy. The purpose of this classification model is rather to find the most important text features with fairy acceptable accuracy than to produce the high accuracy classification model. Hence, we picked the easily interpretable classification models Logistic Regression and Random Forest Classifiers. "
   ]
  },
  {
   "cell_type": "markdown",
   "metadata": {},
   "source": [
    "## 2.2 Logistic Regression"
   ]
  },
  {
   "cell_type": "markdown",
   "metadata": {},
   "source": [
    "## 2.2.1 Grid Search to explore hyper-parameters\n",
    "\n",
    "It is usually difficult to know in advance what hyper parameters will enable a model to make better predictions, Model hyper-parameters are values that get defined before training a dataset and can not be learned directly from the data. For every model there are many hyper-parameters, so a good way to define the best set of hyper-parameters is by trying different combinations and comparing the results.Grid Search evaluates all the combinations from a list of desired hyper-parameters and reports which combination has the best accuracy."
   ]
  },
  {
   "cell_type": "code",
   "execution_count": 13,
   "metadata": {
    "scrolled": true
   },
   "outputs": [
    {
     "name": "stdout",
     "output_type": "stream",
     "text": [
      "--- 446.7606751918793s seconds ---\n"
     ]
    }
   ],
   "source": [
    "start_time = time.time()\n",
    "params_logit = {'penalty':['l1','l2'],\n",
    "                'C': [0.01, 0.1, 1, 10] \n",
    "}\n",
    "\n",
    "gs_logit = GridSearchCV(LogisticRegression(), \n",
    "                        param_grid=params_logit, \n",
    "                        return_train_score=False)\n",
    "gs_logit.fit(X_train, y_train)\n",
    "print(\"--- {}s seconds ---\".format((time.time() - start_time)))"
   ]
  },
  {
   "cell_type": "markdown",
   "metadata": {},
   "source": [
    "The time took to grid search the best parameters is 448 seconds. "
   ]
  },
  {
   "cell_type": "code",
   "execution_count": 14,
   "metadata": {
    "scrolled": true
   },
   "outputs": [
    {
     "data": {
      "text/plain": [
       "{'C': 1, 'penalty': 'l1'}"
      ]
     },
     "execution_count": 14,
     "metadata": {},
     "output_type": "execute_result"
    }
   ],
   "source": [
    "gs_logit.best_params_"
   ]
  },
  {
   "cell_type": "markdown",
   "metadata": {},
   "source": [
    "The best fitted parameters are C=1 and l1 penalty. "
   ]
  },
  {
   "cell_type": "code",
   "execution_count": 15,
   "metadata": {},
   "outputs": [
    {
     "data": {
      "text/plain": [
       "0.7713454850701523"
      ]
     },
     "execution_count": 15,
     "metadata": {},
     "output_type": "execute_result"
    }
   ],
   "source": [
    "gs_logit.score(X_train, y_train)"
   ]
  },
  {
   "cell_type": "code",
   "execution_count": 16,
   "metadata": {
    "scrolled": true
   },
   "outputs": [
    {
     "data": {
      "text/plain": [
       "0.7480888569115928"
      ]
     },
     "execution_count": 16,
     "metadata": {},
     "output_type": "execute_result"
    }
   ],
   "source": [
    "gs_logit.score(X_test,y_test)"
   ]
  },
  {
   "cell_type": "markdown",
   "metadata": {},
   "source": [
    "Although the accuracy of Logistic Regression Classifier on training and test dataset is not that high, and the model is slightly overfitted, we still can expect this model can give us a lot of information by pulling important features. "
   ]
  },
  {
   "cell_type": "markdown",
   "metadata": {},
   "source": [
    "## 2.2.2 Most important features in the model"
   ]
  },
  {
   "cell_type": "code",
   "execution_count": 17,
   "metadata": {},
   "outputs": [],
   "source": [
    "betas = pd.DataFrame(gs_logit.best_estimator_.coef_.T, \n",
    "                     index = X_train.columns, \n",
    "                     columns=['weight'])\n",
    "betas['euler'] = [np.exp(beta) for beta in betas['weight']]"
   ]
  },
  {
   "cell_type": "code",
   "execution_count": 18,
   "metadata": {},
   "outputs": [],
   "source": [
    "weights = betas.sort_values('euler', ascending=False)['euler'].head(20)\n",
    "labels = weights.sort_values(ascending=False).index"
   ]
  },
  {
   "cell_type": "code",
   "execution_count": 19,
   "metadata": {},
   "outputs": [],
   "source": [
    "weights_color = ['black','#8B0000','#8B0000','#8B0000','#8B0000','#8B0000','green','#8B0000','#3F5D7D','#8B0000','green','#8B0000','#8B0000','#8B0000','black',\n",
    "'#3F5D7D','#8B0000','#8B0000','#3F5D7D','#3F5D7D']"
   ]
  },
  {
   "cell_type": "code",
   "execution_count": 20,
   "metadata": {
    "scrolled": false
   },
   "outputs": [
    {
     "data": {
      "image/png": "[encoded data removed]",
      "text/plain": [
       "<Figure size 1080x504 with 1 Axes>"
      ]
     },
     "metadata": {
      "needs_background": "light"
     },
     "output_type": "display_data"
    }
   ],
   "source": [
    "plt.figure(figsize=(15,7))\n",
    "plt.barh(labels, weights, color=weights_color, log=True)\n",
    "plt.yticks(fontsize=16);\n",
    "plt.xticks(fontsize=16);\n",
    "plt.xlabel('Weights', fontsize=20);\n",
    "plt.title('Most Important Features and Weights', fontsize=22)\n",
    "plt.tight_layout()\n",
    "\n",
    "red_patch = mpatches.Patch(color='#8B0000', label='Kpop group debuted in 2017 or 2018')\n",
    "blue_patch = mpatches.Patch(color='#3F5D7D', label='Kpop song released in 2017 or 2018')\n",
    "green_patch = mpatches.Patch(color='green', label='Kpop solo artist debuted in 2017 or 2018')\n",
    "plt.legend(handles=[red_patch,blue_patch,green_patch]);"
   ]
  },
  {
   "cell_type": "markdown",
   "metadata": {},
   "source": [
    "The figure shows the ten most important features and weights in the Logistic Regression Classifier. As expected, most of them are Kpop Artists who made their debut in 2017 or 2018. The highest weight is on the word \"orig\", which is shorten for \"original\". Let us search the word \"orig\" in the Kpop Reddit posts.<br>\n",
    "\n",
    "\n",
    "\n",
    "\n",
    ">![](../img/orig.png)\n",
    "\n"
   ]
  },
  {
   "cell_type": "markdown",
   "metadata": {},
   "source": [
    "The word \"orig\" appeared on the title of dance/song cover video contents which normally indicate the original singer of the song. In the previous years, the dance/song cover videos are usually made by the Kpop fans. In recent years, most of these cover videos are made by Kpop artists themselves that they sing or dance on different Kpop groups' or western pop artists' songs and upload these high quality videos to their official youtube account or other social network website. In this way, Kpop artist especially who just debuted can gain more attention by other Kpop fans and western pop fans.  \n",
    "\n",
    "The word \"composed arranged\"is also an important word to distinguish the Reddit post to recent or previous years. K-pop fans in US may didn't pay attention to the composer of the K-pop music most of K-pop artists don't make music, but nowadays, more and more K-pop groups produce their own music to share their message. This could be also a possible reason that BTS's success in US because they were able to produce the music that can make them universal."
   ]
  },
  {
   "cell_type": "code",
   "execution_count": 21,
   "metadata": {},
   "outputs": [],
   "source": [
    "raw_text = pd.read_csv('../dataset/raw_text.csv',)"
   ]
  },
  {
   "cell_type": "code",
   "execution_count": 22,
   "metadata": {},
   "outputs": [
    {
     "data": {
      "text/plain": [
       "array([[0.19128108, 0.80871892],\n",
       "       [0.29402446, 0.70597554],\n",
       "       [0.28844484, 0.71155516],\n",
       "       [0.01499735, 0.98500265],\n",
       "       [0.15038058, 0.84961942],\n",
       "       [0.12280384, 0.87719616],\n",
       "       [0.12757393, 0.87242607],\n",
       "       [0.15758614, 0.84241386],\n",
       "       [0.17725757, 0.82274243],\n",
       "       [0.17421037, 0.82578963],\n",
       "       [0.25355142, 0.74644858]])"
      ]
     },
     "execution_count": 22,
     "metadata": {},
     "output_type": "execute_result"
    }
   ],
   "source": [
    "Positive_index = X_test[gs_logit.predict_proba(np.array(X_test))[:,1]>0.7].index\n",
    "Summary = raw_text.loc[Positive_index,['text','class']][:100]\n",
    "Misclassification = Summary[Summary['class']==0]\n",
    "\n",
    "gs_logit.predict_proba(np.array(X_test.loc[Misclassification['text'].index]))"
   ]
  },
  {
   "cell_type": "code",
   "execution_count": 23,
   "metadata": {
    "scrolled": false
   },
   "outputs": [
    {
     "data": {
      "text/plain": [
       "array([' Stellar - Sting @ Arirang Kpop ',\n",
       "       'Ask Reddit comment about Kpop singers being used a prostitutes ',\n",
       "       'BULLDOK Debut teaser is here to bless us all ', \"NU'EST \",\n",
       "       '2016 Male Idol digital downloads + physical sales ',\n",
       "       \"Which songs were you late to discovering? As we all know there are so many new kpop vids every day that unless you're pharkil or something there's no way to keep up. Most of us only have room for a few biases in our hearts but as a result we miss a lot of great stuff. What songs did you miss as they were being promoted but found later and fell in love with? I'm looking for more potentially missed wonders.\\n\\nThread inspired by [History - Queen](\",\n",
       "       'EXO Becomes 1st Forgein Act To Get #1 On Oricon Roomie Chart [deleted]',\n",
       "       '임팩트[IMFACT] 지안&상 눈코입 (Cover) ',\n",
       "       \"Over 100 Artists - National Healing Song 'Abandoned by the Side of the Street(길가에 버려지다)' \",\n",
       "       'KBS2 뮤직뱅크 (Music Bank) Performances [16.06.10] ---\\n---\\n\\n#**KBS2 뮤직뱅크 (Music Bank) for Friday, June 10^(th), 2016**\\n\\n######[**Previous Compilations**](---\\n---\\n\\n### 🏆 **This week\\'s winner** 🏆\\n\\n(---\\n---\\n\\n## **Performances** ^(Sorted Alphabetically) \\n\\n---\\n\\n####♫ **Full Show** (*Dailymotion Linked*) [Part-1](#Debut Stage\\n\\n|Artist |Song^*DaumLinked* | YouTubeLinked |Stage\\n|---|---|---|---:|\\n|`f(x)\\'s` LUNA (루나) | [Free Somebody](\\xa0\\n\\n---\\n---\\n\\n#Comeback Stage\\n\\n|Artist |Song^*DaumLinked* | YouTubeLinked\\n|---|---|---|\\n|EXO (엑소) | [Lucky One](|Jeong Jinwoon (정진운) | [Will (feat. Jeong Jinwoon Band)](|Mocha (모카) | [Song of May](|U-KISS (유키스) | [Take it Slow](\\xa0\\n\\n---\\n---\\n\\n#Hot Stage\\n\\n|Artist |Song^*DaumLinked* | YouTubeLinked\\n|---|---|---|\\n|APRIL (에이프릴) | [Tinker Bell](|Baek A Yeon (백아연) | [So-So](|CLC (씨엘씨) | [No Oh Oh](|EXID (이엑스아이디) | [L.I.E](|FIESTAR (피에스타) | [Apple Pie](|HEYNE (혜이니) | [Love Cells](|HONGCHA (홍차) | [Cheer Up](|KNK (크나큰) | [Back Again](|Lovelyz (러블리즈) | [Destiny](|MAP6 (엠에이피식스) | [Swagger Time](|OH MY GIRL(오마이걸) | Windy Day | [Linked](|Road Boyz (로드보이즈) | [Shake It, Shake It](|Shin Ji Hoon (신지훈) | [Jungle Gym](|TWICE (트와이스) | [I\\'m Gonna Be a Star](\\xa0\\n\\n---\\n---\\n     \\n### **Comeback Teaser**\\n\\n- *None this week.*\\n\\n\\xa0\\n\\n---\\n\\n### **Other Cuts**\\n\\n**Backstage:**\\n\\n- [**Full MC Cut**](- [Jeong Jinwoon & U-KISS Interview](- [EXO Interview w/ MCs](- [TWICE Interview w/ MCs](\\xa0\\n\\n---\\n\\n> ^(Comment: *Links maybe temporary and will replace/update once KBS uploads them on their own channel.*)\\n\\n> ^(***~~Will update later with more links after my nap.~~ Also tweaked the format for \"better viewing\" with the new adjustment of the stylesheet. Not sure how much more I can do to make it \"look better to the eye\".***)\\n\\n> ^(*If I made any mistakes, feel free to point them out and I will promptly edit them.*)\\n\\n---\\n\\n\\xa0\\n\\n######MuCore Setlist Tomorrow (June 11^(th)): \\n | | | | \\n---|---|---|---|\\n^APRIL | ^(Baek A Yeon) | ^CLC | ^EXID\\n^**EXO** | ^f(x)\\'s ^LUNA | ^FIESTAR | ^HEYNE\\n^(**Jeong Jinwoon**) | ^KNK | ^Lovelyz | ^MAP6\\n^**Mocha** | ^(Shin Ji Hoon) | ^**SS301** | ^TWICE\\n^**U-KISS** |\\n**^^Bold ^^Artists ^^are ^^Comeback/Debut ^^Stages.**\\n',\n",
       "       ' Miss $(미스에스) feat. Skull - 나도 좀 살자 (Just Let Me Live) '],\n",
       "      dtype=object)"
      ]
     },
     "execution_count": 23,
     "metadata": {},
     "output_type": "execute_result"
    }
   ],
   "source": [
    "raw_text.loc[Misclassification['text'].index]['text'].values"
   ]
  },
  {
   "cell_type": "markdown",
   "metadata": {},
   "source": [
    "The misclassification happened when the post include too little text or too many K-pop artists names. Including the year number in the text may help to improve the model performance. For example, the text like: \n",
    "\n",
    "        \"2016 Male Idol digital downloads + physical sales \"\n",
    "After preprocessing, the text become:\n",
    "        \n",
    "        \"male idol digital download physical sale\"\n",
    "However, including the year number may also confuse the model when text body include the year which may irrelevant to the post creation date."
   ]
  },
  {
   "cell_type": "markdown",
   "metadata": {},
   "source": [
    "## 2.3 Random Forest"
   ]
  },
  {
   "cell_type": "markdown",
   "metadata": {},
   "source": [
    "Training the Random Forest model is a time consuming process with this size of data, so we just used the default hyper-parameters. "
   ]
  },
  {
   "cell_type": "code",
   "execution_count": 24,
   "metadata": {},
   "outputs": [
    {
     "name": "stdout",
     "output_type": "stream",
     "text": [
      "--- 115.7914490699768 seconds ---\n"
     ]
    }
   ],
   "source": [
    "start_time = time.time()\n",
    "rf = RandomForestClassifier()\n",
    "rf.fit(X_train, y_train)\n",
    "print(\"--- %s seconds ---\" % (time.time() - start_time))"
   ]
  },
  {
   "cell_type": "code",
   "execution_count": 25,
   "metadata": {},
   "outputs": [
    {
     "data": {
      "text/plain": [
       "0.9691609705400328"
      ]
     },
     "execution_count": 25,
     "metadata": {},
     "output_type": "execute_result"
    }
   ],
   "source": [
    "rf.score(X_train,y_train)"
   ]
  },
  {
   "cell_type": "code",
   "execution_count": 26,
   "metadata": {},
   "outputs": [
    {
     "data": {
      "text/plain": [
       "0.7556434931198849"
      ]
     },
     "execution_count": 26,
     "metadata": {},
     "output_type": "execute_result"
    }
   ],
   "source": [
    "rf.score(X_test,y_test)"
   ]
  },
  {
   "cell_type": "markdown",
   "metadata": {},
   "source": [
    "As expected, the Random Forest model is highly overfitted which is normally the case for the complex structured RandomForest model."
   ]
  },
  {
   "cell_type": "code",
   "execution_count": 27,
   "metadata": {},
   "outputs": [],
   "source": [
    "feat_importance = pd.DataFrame(rf.feature_importances_, X_train.columns, columns=['importance'])"
   ]
  },
  {
   "cell_type": "code",
   "execution_count": 28,
   "metadata": {},
   "outputs": [
    {
     "data": {
      "image/png": "[encoded data removed]",
      "text/plain": [
       "<Figure size 1080x504 with 1 Axes>"
      ]
     },
     "metadata": {
      "needs_background": "light"
     },
     "output_type": "display_data"
    }
   ],
   "source": [
    "weights_color = ['black','black','#8B0000','black','black','black','#8B0000','black','#8B0000','black','black','#8B0000','black','black','black',\n",
    "'green','#8B0000','black','black','#8B0000']\n",
    "\n",
    "\n",
    "plt.figure(figsize=(15,7))\n",
    "temp = feat_importance.sort_values('importance', ascending=False).head(20)\n",
    "plt.barh(temp.index, temp['importance'], color=weights_color)\n",
    "plt.title('Top 20 Features', fontsize=30)\n",
    "plt.xlabel('Amount of information gained', fontsize=20)\n",
    "plt.ylabel('Feature', fontsize=20)\n",
    "plt.yticks(fontsize=16)\n",
    "plt.xticks(fontsize=16)\n",
    "\n",
    "red_patch = mpatches.Patch(color='#8B0000', label='Kpop group')\n",
    "green_patch = mpatches.Patch(color='green', label='Kpop solo artist debuted in 2017 or 2018')\n",
    "plt.legend(handles=[red_patch,green_patch]);"
   ]
  },
  {
   "cell_type": "markdown",
   "metadata": {},
   "source": [
    "Also, the most important feature in the Random Forest model is \"orig\". Unlike to Logistic Regression, the weights are mostly assigned to the common text instead of Band names. In addition, the Kpop groups in the figure are not all debuted in 2017 and 2018. For example, BTS debuted in 2013 who gained a lot of popularity in recent years, there are posts must exist to mention BTS during 2013 to 2016. However, the group names listed above are definitely the most popular bands in US market right now who are frequently mentioned in the Reddit posts."
   ]
  },
  {
   "cell_type": "markdown",
   "metadata": {},
   "source": [
    "# 3. Conclusion"
   ]
  },
  {
   "cell_type": "markdown",
   "metadata": {},
   "source": [
    "By classifying if the Kpop Reddit post is created in the recent years, we wanted to attempt to retrieve important and trending text features for increasing the influence of Korean culture. \n",
    "\n",
    "According to the result of Logistic Regression model, I suggest to Korean Culture Center that Korean Wave phenomenon should keep integrating into a social media-embedded cultural landscape in US. Collaborate with popular Kpop artists like Wanna One, IZ\\*One, (G)I-dle etc. who just made their debut in 2017 or 2018, make attractive video contents which can be a cover of other K-pop groups' or western artists' dance or songs and share these videio through social media websites. In addition, Kpop artists should keep trying to compose and produce their own songs for targeting global audiences. "
   ]
  }
 ],
 "metadata": {
  "kernelspec": {
   "display_name": "Python 3",
   "language": "python",
   "name": "python3"
  },
  "language_info": {
   "codemirror_mode": {
    "name": "ipython",
    "version": 3
   },
   "file_extension": ".py",
   "mimetype": "text/x-python",
   "name": "python",
   "nbconvert_exporter": "python",
   "pygments_lexer": "ipython3",
   "version": "3.6.7"
  }
 },
 "nbformat": 4,
 "nbformat_minor": 2
}
